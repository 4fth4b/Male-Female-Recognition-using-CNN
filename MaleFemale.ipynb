{
 "cells": [
  {
   "cell_type": "code",
   "execution_count": 1,
   "id": "cd5caf04-7721-40e7-83a4-4c3fa8e28884",
   "metadata": {},
   "outputs": [],
   "source": [
    "import cv2\n",
    "import pandas as pd\n",
    "import numpy as np\n",
    "import matplotlib.pyplot as plt\n",
    "import keras\n",
    "import tensorflow as tf\n",
    "from tensorflow.keras import Sequential\n",
    "from tensorflow.keras.layers import Dense,Flatten,MaxPool2D,Conv2D\n",
    "from tensorflow.keras.losses import SparseCategoricalCrossentropy as SCC\n",
    "from tensorflow.keras.optimizers import Adam\n",
    "import glob\n",
    "import pathlib"
   ]
  },
  {
   "cell_type": "code",
   "execution_count": 2,
   "id": "88f54714-50f4-4eec-bbe1-dcc6bdb33ad8",
   "metadata": {},
   "outputs": [],
   "source": [
    "pic_path=pathlib.Path(r\"C:\\Users\\aftha\\Deep Learning\\opencv\\Training\")"
   ]
  },
  {
   "cell_type": "code",
   "execution_count": 3,
   "id": "580e876b-4937-4a0f-b3b5-c4b91549ef0e",
   "metadata": {},
   "outputs": [
    {
     "data": {
      "text/plain": [
       "WindowsPath('C:/Users/aftha/Deep Learning/opencv/Training')"
      ]
     },
     "execution_count": 3,
     "metadata": {},
     "output_type": "execute_result"
    }
   ],
   "source": [
    "pic_path"
   ]
  },
  {
   "cell_type": "code",
   "execution_count": 4,
   "id": "af390e64-bfb9-4419-81ed-bbb728d1f390",
   "metadata": {},
   "outputs": [],
   "source": [
    "male=list(pic_path.glob('male/*'))\n",
    "female=list(pic_path.glob('female/*'))"
   ]
  },
  {
   "cell_type": "code",
   "execution_count": 5,
   "id": "9f6b71a5-01e2-4089-a4b1-1e8d5ac413f1",
   "metadata": {},
   "outputs": [],
   "source": [
    "a=list(male)"
   ]
  },
  {
   "cell_type": "code",
   "execution_count": 6,
   "id": "9b9fabfa-8e1e-4c4b-8763-a88be4db00d7",
   "metadata": {},
   "outputs": [
    {
     "data": {
      "text/plain": [
       "23766"
      ]
     },
     "execution_count": 6,
     "metadata": {},
     "output_type": "execute_result"
    }
   ],
   "source": [
    "len(a)"
   ]
  },
  {
   "cell_type": "code",
   "execution_count": 7,
   "id": "e0821c5b-1c51-4a35-8e38-9cc1a1243cf6",
   "metadata": {},
   "outputs": [],
   "source": [
    "pic_dict={'male':male,'female':female}"
   ]
  },
  {
   "cell_type": "code",
   "execution_count": 8,
   "id": "15be9e80-dfea-494a-bab1-02c64f2ab7a6",
   "metadata": {},
   "outputs": [],
   "source": [
    "pic_class={'male':0,'female':1}"
   ]
  },
  {
   "cell_type": "code",
   "execution_count": 9,
   "id": "76610bd1-ea57-4625-9a33-843076494292",
   "metadata": {},
   "outputs": [],
   "source": [
    "x=[]\n",
    "y=[]"
   ]
  },
  {
   "cell_type": "code",
   "execution_count": 10,
   "id": "ecf27c6f-39bb-43c4-81f7-059a48dbd2a1",
   "metadata": {},
   "outputs": [],
   "source": [
    "for i in pic_dict:\n",
    "    pic_path_list=pic_dict[i]\n",
    "    for path in pic_path_list:\n",
    "        img=cv2.imread(str(path))\n",
    "        img=cv2.resize(img,(75,75))\n",
    "        img=img/255\n",
    "        x.append(img)\n",
    "        y.append(pic_class[i])"
   ]
  },
  {
   "cell_type": "code",
   "execution_count": 11,
   "id": "dfd6e988-1c27-4e33-9d21-82b2e39a651e",
   "metadata": {},
   "outputs": [],
   "source": [
    "x=np.array(x)\n",
    "y=np.array(y)"
   ]
  },
  {
   "cell_type": "code",
   "execution_count": 12,
   "id": "1a772f18-d580-4774-987e-72465ead6028",
   "metadata": {},
   "outputs": [
    {
     "name": "stdout",
     "output_type": "stream",
     "text": [
      "(47009, 75, 75, 3)\n",
      "(47009,)\n"
     ]
    }
   ],
   "source": [
    "print(x.shape)\n",
    "print(y.shape)"
   ]
  },
  {
   "cell_type": "code",
   "execution_count": 13,
   "id": "e7ca0fc9-e72d-4cd0-b957-f52a7afec747",
   "metadata": {},
   "outputs": [],
   "source": [
    "from sklearn.model_selection import train_test_split\n",
    "from tensorflow.keras import Sequential\n",
    "from tensorflow.keras.layers import Flatten,Dense,Conv2D,MaxPool2D\n",
    "from tensorflow.keras.losses import SparseCategoricalCrossentropy "
   ]
  },
  {
   "cell_type": "code",
   "execution_count": 14,
   "id": "6dd3a5be-700a-47b2-925c-4368f8eaee20",
   "metadata": {},
   "outputs": [],
   "source": [
    "xtrain,xtest,ytrain,ytest=train_test_split(x,y,train_size=.75,random_state=1)"
   ]
  },
  {
   "cell_type": "code",
   "execution_count": 15,
   "id": "394e595f-28b6-4b76-a3bd-d16875e9f2e9",
   "metadata": {},
   "outputs": [
    {
     "name": "stdout",
     "output_type": "stream",
     "text": [
      "Model: \"sequential\"\n",
      "_________________________________________________________________\n",
      " Layer (type)                Output Shape              Param #   \n",
      "=================================================================\n",
      " conv2d (Conv2D)             (None, 73, 73, 150)       4200      \n",
      "                                                                 \n",
      " max_pooling2d (MaxPooling2D  (None, 36, 36, 150)      0         \n",
      " )                                                               \n",
      "                                                                 \n",
      " conv2d_1 (Conv2D)           (None, 34, 34, 100)       135100    \n",
      "                                                                 \n",
      " max_pooling2d_1 (MaxPooling  (None, 17, 17, 100)      0         \n",
      " 2D)                                                             \n",
      "                                                                 \n",
      " conv2d_2 (Conv2D)           (None, 15, 15, 70)        63070     \n",
      "                                                                 \n",
      " max_pooling2d_2 (MaxPooling  (None, 7, 7, 70)         0         \n",
      " 2D)                                                             \n",
      "                                                                 \n",
      " flatten (Flatten)           (None, 3430)              0         \n",
      "                                                                 \n",
      " dense (Dense)               (None, 100)               343100    \n",
      "                                                                 \n",
      " dense_1 (Dense)             (None, 100)               10100     \n",
      "                                                                 \n",
      " dense_2 (Dense)             (None, 90)                9090      \n",
      "                                                                 \n",
      " dense_3 (Dense)             (None, 2)                 182       \n",
      "                                                                 \n",
      "=================================================================\n",
      "Total params: 564,842\n",
      "Trainable params: 564,842\n",
      "Non-trainable params: 0\n",
      "_________________________________________________________________\n"
     ]
    }
   ],
   "source": [
    "model=Sequential()\n",
    "callback = tf.keras.callbacks.EarlyStopping(monitor='loss', patience=3)\n",
    "\n",
    "model.add(Conv2D(filters=150,kernel_size=(3,3),input_shape=(75,75,3),activation='relu'))\n",
    "model.add(MaxPool2D(pool_size=(2,2)))\n",
    "\n",
    "model.add(Conv2D(filters=100,kernel_size=(3,3),input_shape=(75,75,3),activation='relu'))\n",
    "model.add(MaxPool2D(pool_size=(2,2)))\n",
    "\n",
    "model.add(Conv2D(filters=70,kernel_size=(3,3),input_shape=(75,75,3),activation='relu'))\n",
    "model.add(MaxPool2D(pool_size=(2,2)))\n",
    "\n",
    "model.add(Flatten())\n",
    "model.add(Dense(100,activation='relu'))\n",
    "model.add(Dense(100,activation='relu'))\n",
    "model.add(Dense(90,activation='relu'))\n",
    "\n",
    "model.add(Dense(2,activation='softmax'))\n",
    "\n",
    "model.summary()"
   ]
  },
  {
   "cell_type": "code",
   "execution_count": 16,
   "id": "ac5204f2-ccd5-40cb-a2bb-c17ae9849e0d",
   "metadata": {},
   "outputs": [],
   "source": [
    "model.compile(optimizer='adam',loss=SCC(),metrics=['accuracy'])"
   ]
  },
  {
   "cell_type": "code",
   "execution_count": 17,
   "id": "7e97a3d9-7df3-4932-b3ba-3ec7d7178f1a",
   "metadata": {},
   "outputs": [
    {
     "name": "stdout",
     "output_type": "stream",
     "text": [
      "Epoch 1/10\n",
      "1102/1102 [==============================] - 328s 295ms/step - loss: 0.3007 - accuracy: 0.8607 - val_loss: 0.1891 - val_accuracy: 0.9283\n",
      "Epoch 2/10\n",
      "1102/1102 [==============================] - 310s 281ms/step - loss: 0.1617 - accuracy: 0.9402 - val_loss: 0.1546 - val_accuracy: 0.9427\n",
      "Epoch 3/10\n",
      "1102/1102 [==============================] - 302s 274ms/step - loss: 0.1380 - accuracy: 0.9492 - val_loss: 0.1477 - val_accuracy: 0.9461\n",
      "Epoch 4/10\n",
      "1102/1102 [==============================] - 289s 262ms/step - loss: 0.1223 - accuracy: 0.9560 - val_loss: 0.1465 - val_accuracy: 0.9489\n",
      "Epoch 5/10\n",
      "1102/1102 [==============================] - 307s 279ms/step - loss: 0.1140 - accuracy: 0.9598 - val_loss: 0.1364 - val_accuracy: 0.9507\n",
      "Epoch 6/10\n",
      "1102/1102 [==============================] - 296s 269ms/step - loss: 0.1021 - accuracy: 0.9639 - val_loss: 0.1319 - val_accuracy: 0.9517\n",
      "Epoch 7/10\n",
      "1102/1102 [==============================] - 297s 269ms/step - loss: 0.0938 - accuracy: 0.9662 - val_loss: 0.1317 - val_accuracy: 0.9518\n",
      "Epoch 8/10\n",
      "1102/1102 [==============================] - 292s 265ms/step - loss: 0.0860 - accuracy: 0.9689 - val_loss: 0.1295 - val_accuracy: 0.9524\n",
      "Epoch 9/10\n",
      "1102/1102 [==============================] - 301s 273ms/step - loss: 0.0794 - accuracy: 0.9708 - val_loss: 0.1308 - val_accuracy: 0.9507\n",
      "Epoch 10/10\n",
      "1102/1102 [==============================] - 305s 276ms/step - loss: 0.0697 - accuracy: 0.9749 - val_loss: 0.1378 - val_accuracy: 0.9549\n"
     ]
    }
   ],
   "source": [
    "hist=model.fit(xtrain,ytrain,epochs=10,validation_data=(xtest,ytest),callbacks=[callback])"
   ]
  },
  {
   "cell_type": "code",
   "execution_count": 19,
   "id": "60c00890-3035-4024-bcf1-215bb891d633",
   "metadata": {
    "execution": {
     "iopub.execute_input": "2023-04-24T06:24:21.641499Z",
     "iopub.status.busy": "2023-04-24T06:24:21.641499Z",
     "iopub.status.idle": "2023-04-24T06:24:21.657123Z",
     "shell.execute_reply": "2023-04-24T06:24:21.657123Z",
     "shell.execute_reply.started": "2023-04-24T06:24:21.641499Z"
    },
    "tags": []
   },
   "outputs": [],
   "source": [
    "his=hist.history"
   ]
  },
  {
   "cell_type": "code",
   "execution_count": 20,
   "id": "3ba64b16-70e3-4050-bb70-11ecd1d4c018",
   "metadata": {
    "execution": {
     "iopub.execute_input": "2023-04-24T06:24:25.489785Z",
     "iopub.status.busy": "2023-04-24T06:24:25.489785Z",
     "iopub.status.idle": "2023-04-24T06:24:25.505710Z",
     "shell.execute_reply": "2023-04-24T06:24:25.505710Z",
     "shell.execute_reply.started": "2023-04-24T06:24:25.489785Z"
    }
   },
   "outputs": [
    {
     "data": {
      "text/plain": [
       "{'loss': [0.30069226026535034,\n",
       "  0.16169676184654236,\n",
       "  0.13801956176757812,\n",
       "  0.12233482301235199,\n",
       "  0.11395718902349472,\n",
       "  0.10211814939975739,\n",
       "  0.09375391155481339,\n",
       "  0.0860271006822586,\n",
       "  0.0794420912861824,\n",
       "  0.06972001492977142],\n",
       " 'accuracy': [0.860732913017273,\n",
       "  0.9401520490646362,\n",
       "  0.949171781539917,\n",
       "  0.9559791088104248,\n",
       "  0.9598082304000854,\n",
       "  0.9639493823051453,\n",
       "  0.9661617875099182,\n",
       "  0.9689130783081055,\n",
       "  0.9708134531974792,\n",
       "  0.974926233291626],\n",
       " 'val_loss': [0.18905168771743774,\n",
       "  0.1545618772506714,\n",
       "  0.14770492911338806,\n",
       "  0.1464538872241974,\n",
       "  0.1363680064678192,\n",
       "  0.13186608254909515,\n",
       "  0.1317095011472702,\n",
       "  0.12947751581668854,\n",
       "  0.13076718151569366,\n",
       "  0.13777922093868256],\n",
       " 'val_accuracy': [0.928273618221283,\n",
       "  0.9426529407501221,\n",
       "  0.9461414217948914,\n",
       "  0.9489492177963257,\n",
       "  0.9506508708000183,\n",
       "  0.9516718983650208,\n",
       "  0.95175701379776,\n",
       "  0.952437698841095,\n",
       "  0.9506508708000183,\n",
       "  0.9549051523208618]}"
      ]
     },
     "execution_count": 20,
     "metadata": {},
     "output_type": "execute_result"
    }
   ],
   "source": [
    "his"
   ]
  },
  {
   "cell_type": "code",
   "execution_count": 21,
   "id": "d5f8b461-13a0-4786-8f35-2dfb6ef5e90e",
   "metadata": {
    "execution": {
     "iopub.execute_input": "2023-04-24T06:24:58.406976Z",
     "iopub.status.busy": "2023-04-24T06:24:58.405977Z",
     "iopub.status.idle": "2023-04-24T06:24:58.528877Z",
     "shell.execute_reply": "2023-04-24T06:24:58.528877Z",
     "shell.execute_reply.started": "2023-04-24T06:24:58.406976Z"
    }
   },
   "outputs": [],
   "source": [
    "model.save('MFe.h5')"
   ]
  },
  {
   "cell_type": "code",
   "execution_count": 22,
   "id": "bef33d8b-1de3-428f-9297-5bd5f3361f2c",
   "metadata": {
    "execution": {
     "iopub.execute_input": "2023-04-24T06:25:18.207384Z",
     "iopub.status.busy": "2023-04-24T06:25:18.207384Z",
     "iopub.status.idle": "2023-04-24T06:25:39.337046Z",
     "shell.execute_reply": "2023-04-24T06:25:39.337046Z",
     "shell.execute_reply.started": "2023-04-24T06:25:18.207384Z"
    }
   },
   "outputs": [
    {
     "name": "stdout",
     "output_type": "stream",
     "text": [
      "368/368 [==============================] - 20s 54ms/step - loss: 0.1378 - accuracy: 0.9549\n"
     ]
    },
    {
     "data": {
      "text/plain": [
       "[0.13777922093868256, 0.9549051523208618]"
      ]
     },
     "execution_count": 22,
     "metadata": {},
     "output_type": "execute_result"
    }
   ],
   "source": [
    "model.evaluate(xtest,ytest)"
   ]
  },
  {
   "cell_type": "code",
   "execution_count": 23,
   "id": "e23e3a91-f16c-4be2-a5ff-595543804a64",
   "metadata": {
    "execution": {
     "iopub.execute_input": "2023-04-24T06:25:53.338461Z",
     "iopub.status.busy": "2023-04-24T06:25:53.338461Z",
     "iopub.status.idle": "2023-04-24T06:25:53.659924Z",
     "shell.execute_reply": "2023-04-24T06:25:53.659924Z",
     "shell.execute_reply.started": "2023-04-24T06:25:53.338461Z"
    }
   },
   "outputs": [
    {
     "data": {
      "text/plain": [
       "<matplotlib.legend.Legend at 0x1e79b8d5c40>"
      ]
     },
     "execution_count": 23,
     "metadata": {},
     "output_type": "execute_result"
    },
    {
     "data": {
      "image/png": "[encoded data removed]",
      "text/plain": [
       "<Figure size 432x288 with 1 Axes>"
      ]
     },
     "metadata": {
      "needs_background": "light"
     },
     "output_type": "display_data"
    }
   ],
   "source": [
    "plt.plot(his['accuracy'],label='accuracy')\n",
    "plt.plot(his['val_accuracy'],label='validation accuracy')\n",
    "plt.title(\"learning curve\")\n",
    "plt.xlabel(\"epochs\")\n",
    "plt.ylabel(\"accuracy value\")\n",
    "plt.legend()"
   ]
  },
  {
   "cell_type": "code",
   "execution_count": 24,
   "id": "c1a9d9ff-4774-4a2d-b978-922d219bfe86",
   "metadata": {
    "execution": {
     "iopub.execute_input": "2023-04-24T06:26:13.170168Z",
     "iopub.status.busy": "2023-04-24T06:26:13.170168Z",
     "iopub.status.idle": "2023-04-24T06:26:13.272108Z",
     "shell.execute_reply": "2023-04-24T06:26:13.271263Z",
     "shell.execute_reply.started": "2023-04-24T06:26:13.170168Z"
    }
   },
   "outputs": [
    {
     "data": {
      "text/plain": [
       "<matplotlib.legend.Legend at 0x1e79bb31820>"
      ]
     },
     "execution_count": 24,
     "metadata": {},
     "output_type": "execute_result"
    },
    {
     "data": {
      "image/png": "[encoded data removed]",
      "text/plain": [
       "<Figure size 432x288 with 1 Axes>"
      ]
     },
     "metadata": {
      "needs_background": "light"
     },
     "output_type": "display_data"
    }
   ],
   "source": [
    "plt.plot(his['loss'],label='loss')\n",
    "plt.plot(his['val_loss'],label='validation loss')\n",
    "plt.title('learning curve')\n",
    "plt.xlabel('epochs')\n",
    "plt.ylabel('loss value')\n",
    "plt.legend()"
   ]
  },
  {
   "cell_type": "code",
   "execution_count": 25,
   "id": "c3bdc730-9b21-4607-9cca-9f07386760be",
   "metadata": {
    "execution": {
     "iopub.execute_input": "2023-04-24T06:27:32.040078Z",
     "iopub.status.busy": "2023-04-24T06:27:32.039069Z",
     "iopub.status.idle": "2023-04-24T06:27:32.095722Z",
     "shell.execute_reply": "2023-04-24T06:27:32.095722Z",
     "shell.execute_reply.started": "2023-04-24T06:27:32.039069Z"
    }
   },
   "outputs": [],
   "source": [
    "img=cv2.imread('beautiful-face-png-image.png')\n",
    "img=cv2.resize(img,(75,75))\n",
    "img=img.reshape(1,75,75,3)"
   ]
  },
  {
   "cell_type": "code",
   "execution_count": 26,
   "id": "6b591580-017e-40a6-9d09-eaf7c8800aae",
   "metadata": {
    "execution": {
     "iopub.execute_input": "2023-04-24T06:27:45.559805Z",
     "iopub.status.busy": "2023-04-24T06:27:45.553272Z",
     "iopub.status.idle": "2023-04-24T06:27:45.820562Z",
     "shell.execute_reply": "2023-04-24T06:27:45.820562Z",
     "shell.execute_reply.started": "2023-04-24T06:27:45.559805Z"
    }
   },
   "outputs": [
    {
     "name": "stdout",
     "output_type": "stream",
     "text": [
      "1/1 [==============================] - 0s 192ms/step\n"
     ]
    },
    {
     "data": {
      "text/plain": [
       "array([[4.375233e-30, 1.000000e+00]], dtype=float32)"
      ]
     },
     "execution_count": 26,
     "metadata": {},
     "output_type": "execute_result"
    }
   ],
   "source": [
    "pred=model.predict(img)\n",
    "pred"
   ]
  },
  {
   "cell_type": "code",
   "execution_count": 27,
   "id": "399f60dc-fed6-4f8a-ba37-5bd5d8424b40",
   "metadata": {
    "execution": {
     "iopub.execute_input": "2023-04-24T06:28:00.230813Z",
     "iopub.status.busy": "2023-04-24T06:28:00.230813Z",
     "iopub.status.idle": "2023-04-24T06:28:00.238902Z",
     "shell.execute_reply": "2023-04-24T06:28:00.237814Z",
     "shell.execute_reply.started": "2023-04-24T06:28:00.230813Z"
    }
   },
   "outputs": [
    {
     "name": "stdout",
     "output_type": "stream",
     "text": [
      "prediction= female\n"
     ]
    }
   ],
   "source": [
    "index=np.argmax(pred)\n",
    "for i,v in pic_class.items():\n",
    "    if v==index:\n",
    "        print('prediction=',i)"
   ]
  },
  {
   "cell_type": "code",
   "execution_count": 28,
   "id": "03c0a806-0b83-4011-95e5-a0cc1d42a01e",
   "metadata": {
    "execution": {
     "iopub.execute_input": "2023-04-24T06:29:09.050089Z",
     "iopub.status.busy": "2023-04-24T06:29:09.050089Z",
     "iopub.status.idle": "2023-04-24T06:30:02.952260Z",
     "shell.execute_reply": "2023-04-24T06:30:02.952260Z",
     "shell.execute_reply.started": "2023-04-24T06:29:09.050089Z"
    }
   },
   "outputs": [
    {
     "name": "stdout",
     "output_type": "stream",
     "text": [
      "1/1 [==============================] - 0s 79ms/step\n",
      "1/1 [==============================] - 0s 28ms/step\n",
      "1/1 [==============================] - 0s 80ms/step\n",
      "1/1 [==============================] - 0s 19ms/step\n",
      "1/1 [==============================] - 0s 81ms/step\n",
      "1/1 [==============================] - 0s 18ms/step\n",
      "WARNING:tensorflow:5 out of the last 8 calls to <function Model.make_predict_function.<locals>.predict_function at 0x000001E4125B1040> triggered tf.function retracing. Tracing is expensive and the excessive number of tracings could be due to (1) creating @tf.function repeatedly in a loop, (2) passing tensors with different shapes, (3) passing Python objects instead of tensors. For (1), please define your @tf.function outside of the loop. For (2), @tf.function has reduce_retracing=True option that can avoid unnecessary retracing. For (3), please refer to https://www.tensorflow.org/guide/function#controlling_retracing and https://www.tensorflow.org/api_docs/python/tf/function for  more details.\n",
      "1/1 [==============================] - 0s 80ms/step\n",
      "1/1 [==============================] - 0s 17ms/step\n",
      "WARNING:tensorflow:6 out of the last 10 calls to <function Model.make_predict_function.<locals>.predict_function at 0x000001E4125B1F70> triggered tf.function retracing. Tracing is expensive and the excessive number of tracings could be due to (1) creating @tf.function repeatedly in a loop, (2) passing tensors with different shapes, (3) passing Python objects instead of tensors. For (1), please define your @tf.function outside of the loop. For (2), @tf.function has reduce_retracing=True option that can avoid unnecessary retracing. For (3), please refer to https://www.tensorflow.org/guide/function#controlling_retracing and https://www.tensorflow.org/api_docs/python/tf/function for  more details.\n",
      "1/1 [==============================] - 0s 64ms/step\n",
      "1/1 [==============================] - 0s 14ms/step\n",
      "1/1 [==============================] - 0s 63ms/step\n",
      "1/1 [==============================] - 0s 28ms/step\n",
      "1/1 [==============================] - 0s 100ms/step\n",
      "1/1 [==============================] - 0s 21ms/step\n",
      "1/1 [==============================] - 0s 108ms/step\n",
      "1/1 [==============================] - 0s 20ms/step\n",
      "1/1 [==============================] - 0s 94ms/step\n",
      "1/1 [==============================] - 0s 20ms/step\n",
      "1/1 [==============================] - 0s 80ms/step\n",
      "1/1 [==============================] - 0s 27ms/step\n",
      "1/1 [==============================] - 0s 93ms/step\n",
      "1/1 [==============================] - 0s 18ms/step\n",
      "1/1 [==============================] - 0s 78ms/step\n",
      "1/1 [==============================] - 0s 77ms/step\n",
      "1/1 [==============================] - 1s 799ms/step\n",
      "1/1 [==============================] - 0s 94ms/step\n",
      "1/1 [==============================] - 0s 21ms/step\n",
      "1/1 [==============================] - 0s 96ms/step\n",
      "1/1 [==============================] - 0s 99ms/step\n",
      "1/1 [==============================] - 0s 76ms/step\n",
      "1/1 [==============================] - 0s 83ms/step\n",
      "1/1 [==============================] - 0s 65ms/step\n",
      "1/1 [==============================] - 0s 79ms/step\n",
      "1/1 [==============================] - 0s 79ms/step\n",
      "1/1 [==============================] - 0s 81ms/step\n",
      "1/1 [==============================] - 0s 79ms/step\n",
      "1/1 [==============================] - 0s 63ms/step\n",
      "1/1 [==============================] - 0s 27ms/step\n",
      "1/1 [==============================] - 0s 66ms/step\n",
      "1/1 [==============================] - 0s 26ms/step\n",
      "1/1 [==============================] - 0s 80ms/step\n",
      "1/1 [==============================] - 0s 16ms/step\n",
      "1/1 [==============================] - 0s 94ms/step\n",
      "1/1 [==============================] - 0s 19ms/step\n",
      "1/1 [==============================] - 0s 83ms/step\n",
      "1/1 [==============================] - 0s 28ms/step\n",
      "1/1 [==============================] - 0s 84ms/step\n",
      "1/1 [==============================] - 0s 18ms/step\n",
      "1/1 [==============================] - 0s 64ms/step\n",
      "1/1 [==============================] - 0s 18ms/step\n",
      "1/1 [==============================] - 0s 84ms/step\n",
      "1/1 [==============================] - 0s 25ms/step\n",
      "1/1 [==============================] - 0s 84ms/step\n",
      "1/1 [==============================] - 0s 69ms/step\n",
      "1/1 [==============================] - 0s 63ms/step\n",
      "1/1 [==============================] - 0s 77ms/step\n",
      "1/1 [==============================] - 0s 80ms/step\n",
      "1/1 [==============================] - 0s 77ms/step\n",
      "1/1 [==============================] - 0s 63ms/step\n",
      "1/1 [==============================] - 0s 324ms/step\n",
      "1/1 [==============================] - 0s 81ms/step\n",
      "1/1 [==============================] - 0s 75ms/step\n",
      "1/1 [==============================] - 0s 79ms/step\n",
      "1/1 [==============================] - 0s 68ms/step\n",
      "1/1 [==============================] - 0s 65ms/step\n",
      "1/1 [==============================] - 0s 64ms/step\n",
      "1/1 [==============================] - 0s 85ms/step\n",
      "1/1 [==============================] - 0s 81ms/step\n",
      "1/1 [==============================] - 0s 73ms/step\n",
      "1/1 [==============================] - 0s 78ms/step\n",
      "1/1 [==============================] - 0s 80ms/step\n",
      "1/1 [==============================] - 0s 79ms/step\n",
      "1/1 [==============================] - 0s 83ms/step\n",
      "1/1 [==============================] - 0s 80ms/step\n",
      "1/1 [==============================] - 0s 83ms/step\n",
      "1/1 [==============================] - 0s 79ms/step\n",
      "1/1 [==============================] - 0s 79ms/step\n",
      "1/1 [==============================] - 0s 20ms/step\n",
      "1/1 [==============================] - 0s 79ms/step\n",
      "1/1 [==============================] - 0s 70ms/step\n",
      "1/1 [==============================] - 0s 83ms/step\n",
      "1/1 [==============================] - 0s 66ms/step\n",
      "1/1 [==============================] - 0s 68ms/step\n",
      "1/1 [==============================] - 0s 79ms/step\n",
      "1/1 [==============================] - 0s 19ms/step\n",
      "1/1 [==============================] - 0s 84ms/step\n",
      "1/1 [==============================] - 0s 19ms/step\n",
      "1/1 [==============================] - 0s 88ms/step\n",
      "1/1 [==============================] - 0s 30ms/step\n",
      "1/1 [==============================] - 0s 86ms/step\n",
      "1/1 [==============================] - 0s 28ms/step\n",
      "1/1 [==============================] - 0s 81ms/step\n",
      "1/1 [==============================] - 0s 342ms/step\n",
      "1/1 [==============================] - 0s 16ms/step\n",
      "1/1 [==============================] - 0s 71ms/step\n",
      "1/1 [==============================] - 0s 34ms/step\n",
      "1/1 [==============================] - 0s 79ms/step\n",
      "1/1 [==============================] - 0s 16ms/step\n",
      "1/1 [==============================] - 0s 28ms/step\n",
      "1/1 [==============================] - 0s 78ms/step\n",
      "1/1 [==============================] - 0s 13ms/step\n",
      "1/1 [==============================] - 0s 83ms/step\n",
      "1/1 [==============================] - 0s 12ms/step\n",
      "1/1 [==============================] - 0s 81ms/step\n",
      "1/1 [==============================] - 0s 13ms/step\n",
      "1/1 [==============================] - 0s 78ms/step\n",
      "1/1 [==============================] - 0s 20ms/step\n",
      "1/1 [==============================] - 0s 82ms/step\n",
      "1/1 [==============================] - 0s 18ms/step\n",
      "1/1 [==============================] - 0s 79ms/step\n",
      "1/1 [==============================] - 0s 14ms/step\n",
      "1/1 [==============================] - 0s 72ms/step\n",
      "1/1 [==============================] - 0s 79ms/step\n",
      "1/1 [==============================] - 0s 16ms/step\n",
      "1/1 [==============================] - 0s 37ms/step\n",
      "1/1 [==============================] - 0s 78ms/step\n",
      "1/1 [==============================] - 0s 20ms/step\n",
      "1/1 [==============================] - 0s 69ms/step\n",
      "1/1 [==============================] - 0s 19ms/step\n",
      "1/1 [==============================] - 0s 18ms/step\n",
      "1/1 [==============================] - 0s 94ms/step\n",
      "1/1 [==============================] - 0s 80ms/step\n",
      "1/1 [==============================] - 0s 29ms/step\n",
      "1/1 [==============================] - 0s 76ms/step\n",
      "1/1 [==============================] - 0s 17ms/step\n",
      "1/1 [==============================] - 0s 68ms/step\n",
      "1/1 [==============================] - 0s 80ms/step\n",
      "1/1 [==============================] - 0s 88ms/step\n",
      "1/1 [==============================] - 0s 75ms/step\n",
      "1/1 [==============================] - 0s 23ms/step\n",
      "1/1 [==============================] - 0s 19ms/step\n",
      "1/1 [==============================] - 0s 79ms/step\n",
      "1/1 [==============================] - 0s 20ms/step\n",
      "1/1 [==============================] - 0s 82ms/step\n",
      "1/1 [==============================] - 0s 18ms/step\n",
      "1/1 [==============================] - 0s 83ms/step\n",
      "1/1 [==============================] - 0s 19ms/step\n",
      "1/1 [==============================] - 0s 80ms/step\n",
      "1/1 [==============================] - 0s 18ms/step\n",
      "1/1 [==============================] - 0s 78ms/step\n",
      "1/1 [==============================] - 0s 18ms/step\n",
      "1/1 [==============================] - 0s 73ms/step\n",
      "1/1 [==============================] - 0s 23ms/step\n",
      "1/1 [==============================] - 0s 335ms/step\n",
      "1/1 [==============================] - 0s 18ms/step\n",
      "1/1 [==============================] - 0s 81ms/step\n",
      "1/1 [==============================] - 0s 23ms/step\n",
      "1/1 [==============================] - 0s 81ms/step\n",
      "1/1 [==============================] - 0s 31ms/step\n",
      "1/1 [==============================] - 0s 79ms/step\n",
      "1/1 [==============================] - 0s 13ms/step\n",
      "1/1 [==============================] - 0s 72ms/step\n",
      "1/1 [==============================] - 0s 18ms/step\n",
      "1/1 [==============================] - 0s 80ms/step\n",
      "1/1 [==============================] - 0s 19ms/step\n",
      "1/1 [==============================] - 0s 78ms/step\n",
      "1/1 [==============================] - 0s 31ms/step\n",
      "1/1 [==============================] - 0s 65ms/step\n",
      "1/1 [==============================] - 0s 26ms/step\n",
      "1/1 [==============================] - 0s 84ms/step\n",
      "1/1 [==============================] - 0s 18ms/step\n",
      "1/1 [==============================] - 0s 81ms/step\n",
      "1/1 [==============================] - 0s 78ms/step\n",
      "1/1 [==============================] - 0s 66ms/step\n",
      "1/1 [==============================] - 0s 12ms/step\n",
      "1/1 [==============================] - 0s 79ms/step\n",
      "1/1 [==============================] - 0s 17ms/step\n",
      "1/1 [==============================] - 0s 84ms/step\n",
      "1/1 [==============================] - 0s 22ms/step\n",
      "1/1 [==============================] - 0s 79ms/step\n",
      "1/1 [==============================] - 0s 85ms/step\n",
      "1/1 [==============================] - 0s 65ms/step\n",
      "1/1 [==============================] - 0s 63ms/step\n",
      "1/1 [==============================] - 0s 16ms/step\n",
      "1/1 [==============================] - 0s 65ms/step\n",
      "1/1 [==============================] - 0s 84ms/step\n",
      "1/1 [==============================] - 0s 80ms/step\n",
      "1/1 [==============================] - 0s 81ms/step\n",
      "1/1 [==============================] - 0s 88ms/step\n",
      "1/1 [==============================] - 0s 80ms/step\n",
      "1/1 [==============================] - 0s 79ms/step\n",
      "1/1 [==============================] - 0s 73ms/step\n",
      "1/1 [==============================] - 0s 333ms/step\n",
      "1/1 [==============================] - 0s 80ms/step\n",
      "1/1 [==============================] - 0s 81ms/step\n",
      "1/1 [==============================] - 0s 81ms/step\n",
      "1/1 [==============================] - 0s 79ms/step\n",
      "1/1 [==============================] - 0s 79ms/step\n",
      "1/1 [==============================] - 0s 79ms/step\n",
      "1/1 [==============================] - 0s 63ms/step\n",
      "1/1 [==============================] - 0s 69ms/step\n",
      "1/1 [==============================] - 0s 88ms/step\n",
      "1/1 [==============================] - 0s 81ms/step\n",
      "1/1 [==============================] - 0s 63ms/step\n",
      "1/1 [==============================] - 0s 74ms/step\n",
      "1/1 [==============================] - 0s 64ms/step\n",
      "1/1 [==============================] - 0s 80ms/step\n",
      "1/1 [==============================] - 0s 64ms/step\n",
      "1/1 [==============================] - 0s 83ms/step\n",
      "1/1 [==============================] - 0s 84ms/step\n",
      "1/1 [==============================] - 0s 80ms/step\n",
      "1/1 [==============================] - 0s 75ms/step\n",
      "1/1 [==============================] - 0s 93ms/step\n",
      "1/1 [==============================] - 0s 68ms/step\n",
      "1/1 [==============================] - 0s 63ms/step\n",
      "1/1 [==============================] - 0s 95ms/step\n",
      "1/1 [==============================] - 0s 63ms/step\n",
      "1/1 [==============================] - 0s 69ms/step\n",
      "1/1 [==============================] - 0s 65ms/step\n",
      "1/1 [==============================] - 0s 91ms/step\n",
      "1/1 [==============================] - 0s 24ms/step\n",
      "1/1 [==============================] - 0s 80ms/step\n",
      "1/1 [==============================] - 0s 84ms/step\n",
      "1/1 [==============================] - 0s 81ms/step\n"
     ]
    }
   ],
   "source": [
    "haar_data=cv2.CascadeClassifier(cv2.data.haarcascades+ \"haarcascade_frontalface_default.xml\")\n",
    "cap=cv2.VideoCapture(0)\n",
    "labels_dict={0:'male',1:'female'}\n",
    "color_dict={0:(0,255,0),1:(0,0,255)}\n",
    "while True:\n",
    "    flag,img=cap.read()\n",
    "    gray=cv2.cvtColor(img,cv2.COLOR_BGR2GRAY)\n",
    "    faces=haar_data.detectMultiScale(gray,scaleFactor=1.1,minNeighbors=5)\n",
    "    modl = keras.models.load_model('MFe.h5')\n",
    "    \n",
    "    \n",
    "    for(x,y,w,h) in faces:\n",
    "        face_img=img[y:y+w,x:x+w]\n",
    "        resized=cv2.resize(face_img,(75,75))\n",
    "        normalized=resized/255\n",
    "        reshaped=np.reshape(normalized,(1,75,75,3))\n",
    "        result=modl.predict(reshaped)\n",
    "        label=np.argmax(result,axis=1)[0]\n",
    "        cv2.rectangle(img,(x,y),(x+w,y+h),color_dict[label],2)\n",
    "        cv2.putText(img,labels_dict[label],(x+50,y+20),cv2.FONT_HERSHEY_PLAIN,0.9,(0,200,0),2)\n",
    "    cv2.imshow('live',img)\n",
    "    \n",
    "    if cv2.waitKey(20)==27:\n",
    "        break\n",
    "cap.release()\n",
    "cv2.destroyAllWindows()"
   ]
  },
  {
   "cell_type": "code",
   "execution_count": null,
   "id": "f71cc730-03af-498d-bd79-487e2813ab66",
   "metadata": {},
   "outputs": [],
   "source": []
  }
 ],
 "metadata": {
  "kernelspec": {
   "display_name": "Python 3 (ipykernel)",
   "language": "python",
   "name": "python3"
  },
  "language_info": {
   "codemirror_mode": {
    "name": "ipython",
    "version": 3
   },
   "file_extension": ".py",
   "mimetype": "text/x-python",
   "name": "python",
   "nbconvert_exporter": "python",
   "pygments_lexer": "ipython3",
   "version": "3.9.12"
  }
 },
 "nbformat": 4,
 "nbformat_minor": 5
}
